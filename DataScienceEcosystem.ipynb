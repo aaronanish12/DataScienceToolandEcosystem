{
 "cells": [
  {
   "cell_type": "markdown",
   "id": "c619c8e8-ed03-4f61-9299-ea1625cc52e3",
   "metadata": {},
   "source": [
    "# Data Science Tools and Ecosystem"
   ]
  },
  {
   "cell_type": "markdown",
   "id": "73646099-875b-4576-a610-33793158870e",
   "metadata": {},
   "source": [
    "## In this notebook, Data Science Tools and Ecosystem are summarized\n"
   ]
  },
  {
   "cell_type": "markdown",
   "id": "a025b3a0-5af1-4bb4-990b-14102727faeb",
   "metadata": {},
   "source": [
    "## Some of the popular languages Data Scientists use are:\n",
    "1. Python\n",
    "2. R\n",
    "3. SQL"
   ]
  },
  {
   "cell_type": "markdown",
   "id": "a33153fe-e39f-44bc-99ee-3c6938249342",
   "metadata": {},
   "source": [
    "## Some of the commonly used libraries used by Data Scientists include:\n",
    "1. Pandas\n",
    "2. Numpy\n",
    "3. Scipy"
   ]
  },
  {
   "cell_type": "markdown",
   "id": "ee122035-fcb6-458d-afcb-13b31a2013c5",
   "metadata": {},
   "source": [
    "| Data Science Tools |\n",
    "|--------------------|\n",
    "|Jupyter notebook|\n",
    "|R Studio|\n",
    "|Jupyter lab|\n"
   ]
  },
  {
   "cell_type": "markdown",
   "id": "6bd4827f-7793-4780-b027-af404d1338c4",
   "metadata": {},
   "source": [
    "### Below are a few examples of evaluating arithmetic expressions in python"
   ]
  },
  {
   "cell_type": "code",
   "execution_count": 1,
   "id": "985de45b-9f6e-4f54-8ed4-ecabbc7111f1",
   "metadata": {
    "tags": []
   },
   "outputs": [
    {
     "data": {
      "text/plain": [
       "17"
      ]
     },
     "execution_count": 1,
     "metadata": {},
     "output_type": "execute_result"
    }
   ],
   "source": [
    "# This a simple arithmetic expression to mutiply then add integers\n",
    "(3 * 4) + 5"
   ]
  },
  {
   "cell_type": "code",
   "execution_count": 2,
   "id": "092f81ad-a356-44b8-a610-edfe166329cf",
   "metadata": {
    "tags": []
   },
   "outputs": [
    {
     "data": {
      "text/plain": [
       "3.3333333333333335"
      ]
     },
     "execution_count": 2,
     "metadata": {},
     "output_type": "execute_result"
    }
   ],
   "source": [
    "# This will convert 200 minutes to hours by dividing by 60\n",
    "200 / 60"
   ]
  },
  {
   "cell_type": "markdown",
   "id": "8047850a-baa0-4c68-821e-7436f376c078",
   "metadata": {},
   "source": [
    "**Objectives:**\n",
    "- list popular language for Data Science\n",
    "- list popular tools for data science\n",
    "- Evaluated arithmetic expression in python"
   ]
  },
  {
   "cell_type": "markdown",
   "id": "fb4823f3-bf7d-493f-b79d-2845cb67a774",
   "metadata": {},
   "source": [
    "## Author\n",
    "Om Sharma"
   ]
  },
  {
   "cell_type": "code",
   "execution_count": null,
   "id": "5d1c58f1-8e1b-4e96-9668-ee237c1cd82b",
   "metadata": {},
   "outputs": [],
   "source": []
  }
 ],
 "metadata": {
  "kernelspec": {
   "display_name": "Python",
   "language": "python",
   "name": "conda-env-python-py"
  },
  "language_info": {
   "codemirror_mode": {
    "name": "ipython",
    "version": 3
   },
   "file_extension": ".py",
   "mimetype": "text/x-python",
   "name": "python",
   "nbconvert_exporter": "python",
   "pygments_lexer": "ipython3",
   "version": "3.7.12"
  }
 },
 "nbformat": 4,
 "nbformat_minor": 5
}
